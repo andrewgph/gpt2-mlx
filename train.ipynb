{
 "cells": [
  {
   "cell_type": "code",
   "execution_count": null,
   "metadata": {},
   "outputs": [],
   "source": [
    "import gpt2\n",
    "import mlx.core as mx\n",
    "import mlx.nn as nn\n",
    "import mlx.optimizers as optim\n",
    "import numpy as np"
   ]
  },
  {
   "cell_type": "code",
   "execution_count": null,
   "metadata": {},
   "outputs": [],
   "source": [
    "# Equivalent to gpt2-nano\n",
    "model_args = gpt2.ModelArgs(\n",
    "    n_layer = 3,\n",
    "    n_head = 3,\n",
    "    n_embd = 48,\n",
    "    embd_pdrop = 0.1,\n",
    "    resid_pdrop = 0.1,\n",
    "    attn_pdrop = 0.1,\n",
    "    vocab_size = 3,\n",
    "    n_positions = 11\n",
    ")\n",
    "\n",
    "model = gpt2.GPT2(model_args)"
   ]
  },
  {
   "cell_type": "code",
   "execution_count": null,
   "metadata": {},
   "outputs": [],
   "source": [
    "iters = 10\n",
    "batch_size = 64\n",
    "\n",
    "def test_model(model):\n",
    "    test_input = mx.random.randint(low=0, high=3, shape=(1, 6))\n",
    "    test_output = []\n",
    "    count = 0\n",
    "    for token in model.generate(test_input):\n",
    "        count += 1\n",
    "        test_output.extend(token.tolist())\n",
    "        if count == 6:\n",
    "            break\n",
    "    print(f'{test_input.tolist()} -> {test_output}')\n",
    "\n",
    "def loss_fn(model, inputs, targets):\n",
    "    return mx.mean(nn.losses.cross_entropy( model(inputs), targets))\n",
    "\n",
    "def train(model):\n",
    "    train_data = mx.random.randint(low=0, high=3, shape=(6400, 6))\n",
    "    train_data = mx.concatenate([train_data, mx.sort(train_data, axis=1)], axis=1)\n",
    "    inputs = train_data[:,:-1]\n",
    "    targets = train_data[:,1:]\n",
    "    targets[:,:5] = -1\n",
    "\n",
    "    optimizer = optim.AdamW(learning_rate=5e-4)\n",
    "    loss_value_and_grad = nn.value_and_grad(model, loss_fn)\n",
    "\n",
    "    for i in range(iters):\n",
    "        losses = []\n",
    "        for j in range(0, len(inputs), batch_size):\n",
    "            batch_inputs = inputs[j:j+batch_size,:]\n",
    "            batch_targets = targets[j:j+batch_size,:]\n",
    "            loss, grad = loss_value_and_grad(model, batch_inputs, batch_targets)\n",
    "            optimizer.update(model, grad)\n",
    "            mx.eval(model.parameters(), optimizer.state)\n",
    "            losses.append(loss.item())\n",
    "        \n",
    "        print(f'iter {i}, loss {np.mean(losses):.3f}')"
   ]
  },
  {
   "cell_type": "code",
   "execution_count": null,
   "metadata": {},
   "outputs": [],
   "source": [
    "test_model(model)"
   ]
  },
  {
   "cell_type": "code",
   "execution_count": null,
   "metadata": {},
   "outputs": [],
   "source": [
    "train(model)"
   ]
  },
  {
   "cell_type": "code",
   "execution_count": null,
   "metadata": {},
   "outputs": [],
   "source": [
    "test_model(model)"
   ]
  }
 ],
 "metadata": {
  "kernelspec": {
   "display_name": "base",
   "language": "python",
   "name": "python3"
  },
  "language_info": {
   "codemirror_mode": {
    "name": "ipython",
    "version": 3
   },
   "file_extension": ".py",
   "mimetype": "text/x-python",
   "name": "python",
   "nbconvert_exporter": "python",
   "pygments_lexer": "ipython3",
   "version": "3.10.10"
  }
 },
 "nbformat": 4,
 "nbformat_minor": 2
}
