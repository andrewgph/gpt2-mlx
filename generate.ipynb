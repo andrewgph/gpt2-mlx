{
 "cells": [
  {
   "cell_type": "code",
   "execution_count": null,
   "metadata": {},
   "outputs": [],
   "source": [
    "from transformers import GPT2Tokenizer, GPT2LMHeadModel\n",
    "hf_model = GPT2LMHeadModel.from_pretrained('gpt2-xl')\n",
    "tokenizer = GPT2Tokenizer.from_pretrained('gpt2-xl')\n",
    "\n",
    "# Suppress warning\n",
    "hf_model.config.pad_token_id = hf_model.config.eos_token_id\n",
    "\n",
    "device = \"cpu\"\n",
    "hf_model.to(device);"
   ]
  },
  {
   "cell_type": "code",
   "execution_count": null,
   "metadata": {},
   "outputs": [],
   "source": [
    "import gpt2\n",
    "import mlx.core as mx\n",
    "mlx_model_path = \"\" # TODO: path to your model\n",
    "mlx_model = gpt2.load_model(mlx_model_path)"
   ]
  },
  {
   "cell_type": "code",
   "execution_count": null,
   "metadata": {},
   "outputs": [],
   "source": [
    "def tokenize_prompt(prompt):\n",
    "    encoded_input = tokenizer(prompt, return_tensors='pt').to(device)\n",
    "    return encoded_input['input_ids']\n",
    "\n",
    "def decode_output(tokens):\n",
    "    return tokenizer.decode(tokens)\n",
    "\n",
    "def generate_hf(prompt, max_new_tokens=1000):\n",
    "    x = tokenize_prompt(prompt)\n",
    "    x = x.expand(1, -1)\n",
    "    y = hf_model.generate(x, max_new_tokens=max_new_tokens, do_sample=False, temperature=1.0)\n",
    "    return decode_output(y[0])\n",
    "\n",
    "def generate_mlx(prompt, max_new_tokens=1000):\n",
    "    x = mx.array(tokenize_prompt(prompt).numpy())\n",
    "\n",
    "    ys = [x.reshape(-1)]\n",
    "    count = 0\n",
    "    for y in mlx_model.generate(x, temperature=1.0):\n",
    "        ys.append(y)\n",
    "        count += 1\n",
    "        if count == max_new_tokens:\n",
    "            break\n",
    "\n",
    "    tokens = mx.concatenate(ys, axis=0)\n",
    "    return decode_output([t.item() for t in tokens])"
   ]
  },
  {
   "cell_type": "code",
   "execution_count": null,
   "metadata": {},
   "outputs": [],
   "source": [
    "prompt = \"The city was \""
   ]
  },
  {
   "cell_type": "code",
   "execution_count": null,
   "metadata": {},
   "outputs": [],
   "source": [
    "generate_hf(prompt, max_new_tokens=100)"
   ]
  },
  {
   "cell_type": "code",
   "execution_count": null,
   "metadata": {},
   "outputs": [],
   "source": [
    "generate_mlx(prompt, max_new_tokens=100)"
   ]
  }
 ],
 "metadata": {
  "kernelspec": {
   "display_name": "base",
   "language": "python",
   "name": "python3"
  },
  "language_info": {
   "codemirror_mode": {
    "name": "ipython",
    "version": 3
   },
   "file_extension": ".py",
   "mimetype": "text/x-python",
   "name": "python",
   "nbconvert_exporter": "python",
   "pygments_lexer": "ipython3",
   "version": "3.10.10"
  }
 },
 "nbformat": 4,
 "nbformat_minor": 2
}
